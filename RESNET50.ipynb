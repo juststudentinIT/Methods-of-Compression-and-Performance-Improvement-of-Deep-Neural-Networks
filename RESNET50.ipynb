{
  "cells": [
    {
      "cell_type": "markdown",
      "metadata": {
        "id": "view-in-github",
        "colab_type": "text"
      },
      "source": [
        "<a href=\"https://colab.research.google.com/github/juststudentinIT/Methods-of-Compression-and-Performance-Improvement-of-Deep-Neural-Networks/blob/main/RESNET50.ipynb\" target=\"_parent\"><img src=\"https://colab.research.google.com/assets/colab-badge.svg\" alt=\"Open In Colab\"/></a>"
      ]
    },
    {
      "cell_type": "code",
      "metadata": {
        "id": "l9RSmlLmZ_1U"
      },
      "source": [
        "import os\n",
        "import h5py\n",
        "import math\n",
        "import numpy as np\n",
        "import tensorflow as tf\n",
        "from tensorflow import keras\n",
        "from tensorflow.keras.models import Model, load_model\n",
        "from tensorflow.keras import layers\n",
        "from tensorflow.keras.layers import Input, Add, Dense, Activation, ZeroPadding2D, BatchNormalization, Flatten, Conv2D, AveragePooling2D, MaxPooling2D, GlobalMaxPooling2D\n",
        "from tensorflow.keras.preprocessing import image\n",
        "from keras.utils import layer_utils\n",
        "from keras.utils.data_utils import get_file\n",
        "from tensorflow.keras.applications.imagenet_utils import preprocess_input\n",
        "from IPython.display import SVG\n",
        "from keras.utils.vis_utils import model_to_dot\n",
        "from tensorflow.keras.utils import plot_model\n",
        "from tensorflow.keras.initializers import glorot_uniform\n",
        "import scipy.misc\n",
        "import matplotlib.pyplot as plt\n",
        "from matplotlib.pyplot import imshow\n",
        "\n",
        "%matplotlib inline\n",
        "import tensorflow.keras.backend as K\n",
        "# Image dataset has channels as its last dimensions\n",
        "K.set_image_data_format('channels_last')"
      ],
      "execution_count": 65,
      "outputs": []
    },
    {
      "cell_type": "code",
      "metadata": {
        "id": "rbYJUA-Sgs-f"
      },
      "source": [
        "def identity_block(X, f, filters, stage, block):\n",
        "\n",
        "  '''\n",
        "  Arguments:\n",
        "  X -       input tensor to the block of shape (m, n_H_prev, n_W_prev, n_C_prev)\n",
        "  f -       defines shpae of filter in the middle layer of the main path\n",
        "  filters - list of integers, defining the number of filters in each layer of the main path\n",
        "  stage -   defines the block position in the network\n",
        "  block -   used for naming convention\n",
        "  '''\n",
        "\n",
        "  # defining base name for block\n",
        "  conv_base_name = 'res' + str(stage) + block + '_'\n",
        "  bn_base_name = 'bn' + str(stage) + block + '_'\n",
        "\n",
        "  # retrieve number of filters in each layer of main path\n",
        "  # NOTE: f3 must be equal to n_C. That way dimensions of the third component will match the dimension of original input to identity block\n",
        "  f1, f2, f3 = filters\n",
        "\n",
        "  # Batch normalization must be performed on the 'channels' axis for input. It is 3, for our case\n",
        "  bn_axis = 3\n",
        "\n",
        "  # save input for \"addition\" to last layer output; step in skip-connection\n",
        "  X_skip_connection = X\n",
        "\n",
        "  # ----------------------------------------------------------------------\n",
        "  # Building layers/component of identity block using Keras functional API\n",
        "\n",
        "  # First component/layer of main path\n",
        "  X = Conv2D(filters= f1, kernel_size = (1,1), strides = (1,1), padding='valid', name=conv_base_name+'first_component', kernel_initializer = glorot_uniform(seed=0))(X)\n",
        "  X = BatchNormalization(axis=bn_axis, name=bn_base_name+'first_component')(X)\n",
        "  X = Activation('relu')(X)\n",
        "  \n",
        "  # Second component/layer of main path\n",
        "  X = Conv2D(filters= f2, kernel_size = (f,f), strides = (1,1), padding='same', name=conv_base_name+'second_component', kernel_initializer = glorot_uniform(seed=0))(X)\n",
        "  X = BatchNormalization(axis=bn_axis, name=bn_base_name+'second_component')(X)\n",
        "  X = Activation('relu')(X)\n",
        "\n",
        "  # Third component/layer of main path\n",
        "  X = Conv2D(filters= f3, kernel_size = (1,1), strides = (1,1), padding='valid', name=conv_base_name+'third_component', kernel_initializer = glorot_uniform(seed=0))(X)\n",
        "  X = BatchNormalization(axis=bn_axis, name=bn_base_name+'third_component')(X)\n",
        "  \n",
        "  # \"Addition step\" - skip-connection value merges with main path\n",
        "  X = Add()([X, X_skip_connection])\n",
        "  X = Activation('relu')(X)\n",
        "\n",
        "  return X"
      ],
      "execution_count": 66,
      "outputs": []
    },
    {
      "cell_type": "code",
      "metadata": {
        "id": "eOyhiSzxrj--"
      },
      "source": [
        "def convolutional_block(X, f, filters, stage, block, s = 2):\n",
        "    \"\"\"\n",
        "    Arguments:\n",
        "    X -       input tensor to the block of shape (m, n_H_prev, n_W_prev, n_C_prev)\n",
        "    f -       defines shape of filter in the middle layer of the main path\n",
        "    filters - list of integers, defining the number of filters in each layer of the main path\n",
        "    stage -   defines the block position in the network\n",
        "    block -   used for naming convention\n",
        "    s -       specifies the stride to be used\n",
        "    \"\"\"\n",
        "    \n",
        "    # defining base name for block\n",
        "    conv_base_name = 'res' + str(stage) + block + '_'\n",
        "    bn_base_name = 'bn' + str(stage) + block + '_'\n",
        "    \n",
        "    # retrieve number of filters in each layer of main path\n",
        "    f1, f2, f3 = filters\n",
        "    \n",
        "    # Batch normalization must be performed on the 'channels' axis for input. It is 3, for our case\n",
        "    bn_axis = 3\n",
        "\n",
        "    # save input for \"addition\" to last layer output; step in skip-connection\n",
        "    X_skip_connection = X\n",
        "\n",
        "    ##### MAIN PATH #####\n",
        "    # First component of main path \n",
        "    X = Conv2D(f1, (1, 1), strides = (s,s), padding = 'valid', name = conv_base_name + 'first_component', kernel_initializer = glorot_uniform(seed=0))(X)\n",
        "    X = BatchNormalization(axis = bn_axis, name = bn_base_name + 'first_component')(X)\n",
        "    X = Activation('relu')(X)\n",
        "    \n",
        "    # Second component of main path\n",
        "    X = Conv2D(f2,  kernel_size = (f, f), strides = (1,1), padding = 'same', name = conv_base_name + 'second_component', kernel_initializer = glorot_uniform(seed=0))(X)\n",
        "    X = BatchNormalization(axis = bn_axis, name = bn_base_name + 'second_component')(X)\n",
        "    X = Activation('relu')(X)\n",
        "\n",
        "    # Third component of main path \n",
        "    X = Conv2D(f3, kernel_size = (1, 1), strides = (1,1), padding = 'valid', name = conv_base_name + 'third_component', kernel_initializer = glorot_uniform(seed=0))(X)\n",
        "    X = BatchNormalization(axis = bn_axis, name = bn_base_name + 'third_component')(X)\n",
        "\n",
        "    ##### Convolve skip-connection value to match its dimensions to third layer output's dimensions #### \n",
        "    X_skip_connection = Conv2D(f3, (1, 1), strides = (s,s), padding = 'valid', name = conv_base_name + 'merge', kernel_initializer = glorot_uniform(seed=0))(X_skip_connection)\n",
        "    X_skip_connection = BatchNormalization(axis = 3, name = bn_base_name + 'merge')(X_skip_connection)\n",
        "\n",
        "    # \"Addition step\" \n",
        "    X = Add()([X, X_skip_connection])\n",
        "    X = Activation('relu')(X)\n",
        "\n",
        "    return X"
      ],
      "execution_count": 67,
      "outputs": []
    },
    {
      "cell_type": "code",
      "metadata": {
        "id": "KAA3cR4A-kG0"
      },
      "source": [
        "def ResNet50(input_shape = (32, 32, 3), classes = 10):\n",
        "    \"\"\"\n",
        "    Arguments:\n",
        "    input_shape - shape of the images of the dataset\n",
        "    classes - number of classes\n",
        "    \n",
        "    \"\"\"\n",
        "    \n",
        "    # plug in input_shape to define the input tensor\n",
        "    X_input = Input(input_shape)\n",
        "\n",
        "    # Zero-Padding : pads the input with a pad of (3,3)\n",
        "    X = ZeroPadding2D((3, 3))(X_input)\n",
        "    \n",
        "    # Stage 1\n",
        "    X = Conv2D(64, (7, 7), strides = (2, 2), name = 'conv_1', kernel_initializer = glorot_uniform(seed=0))(X)\n",
        "    X = BatchNormalization(axis = 3, name = 'bn_1')(X)\n",
        "    X = Activation('relu')(X)\n",
        "    X = MaxPooling2D((3, 3), strides=(2, 2))(X)\n",
        "\n",
        "    # dimensions of filters that are passed to identity block are such that final layer output\n",
        "    # in identity block mathces the original input to the block\n",
        "    # blocks in each stage are alphabetically sequenced\n",
        "\n",
        "    # Stage 2\n",
        "    X = convolutional_block(X, f = 3, filters = [64, 64, 256], stage = 2, block='a', s = 1)\n",
        "    X = identity_block(X, 3, [64, 64, 256], stage=2, block='b')\n",
        "    X = identity_block(X, 3, [64, 64, 256], stage=2, block='c')\n",
        "\n",
        "    # Stage 3\n",
        "    X = convolutional_block(X, f=3, filters=[128, 128, 512], stage=3, block='a', s=2)\n",
        "    X = identity_block(X, 3, [128, 128, 512], stage=3, block='b')\n",
        "    X = identity_block(X, 3, [128, 128, 512], stage=3, block='c')\n",
        "    X = identity_block(X, 3, [128, 128, 512], stage=3, block='d')\n",
        "\n",
        "    # Stage 4\n",
        "    X = convolutional_block(X, f=3, filters=[256, 256, 1024], stage=4, block='a', s=2)\n",
        "    X = identity_block(X, 3, [256, 256, 1024], stage=4, block='b')\n",
        "    X = identity_block(X, 3, [256, 256, 1024], stage=4, block='c')\n",
        "    X = identity_block(X, 3, [256, 256, 1024], stage=4, block='d')\n",
        "    X = identity_block(X, 3, [256, 256, 1024], stage=4, block='e')\n",
        "    X = identity_block(X, 3, [256, 256, 1024], stage=4, block='f')\n",
        "\n",
        "    # Stage 5\n",
        "    X = convolutional_block(X, f=3, filters=[512, 512, 2048], stage=5, block='a', s=2)\n",
        "    X = identity_block(X, 3, [512, 512, 2048], stage=5, block='b')\n",
        "    X = identity_block(X, 3, [512, 512, 2048], stage=5, block='c')\n",
        "\n",
        "    # Average Pooling\n",
        "    X = AveragePooling2D((1, 1), name='avg_pool')(X)\n",
        "\n",
        "    # output layer\n",
        "    X = Flatten()(X)\n",
        "    X = layers.Dense(1000, activation='relu')(X)\n",
        "    X = Dense(classes, activation='softmax', name='fc' + str(classes), kernel_initializer = glorot_uniform(seed=0))(X)\n",
        "    \n",
        "    # Create model\n",
        "    model = Model(inputs = X_input, outputs = X, name='ResNet50')\n",
        "\n",
        "    return model"
      ],
      "execution_count": 68,
      "outputs": []
    },
    {
      "cell_type": "code",
      "source": [
        "fashion_mnist = tf.keras.datasets.fashion_mnist\n",
        "(x_train,y_train),(x_test,y_test) = fashion_mnist.load_data()"
      ],
      "metadata": {
        "id": "pBHTd4uZOGd4"
      },
      "execution_count": 69,
      "outputs": []
    },
    {
      "cell_type": "code",
      "source": [
        "x_train = tf.pad(x_train, [[0, 0], [2,2], [2,2]])/255\n",
        "x_test = tf.pad(x_test, [[0, 0], [2,2], [2,2]])/255\n",
        "\n",
        "x_train = tf.expand_dims(x_train, axis=3, name=None)\n",
        "x_test = tf.expand_dims(x_test, axis=3, name=None)\n",
        "\n",
        "x_train = tf.repeat(x_train, 3, axis=3)\n",
        "x_test = tf.repeat(x_test, 3, axis=3)"
      ],
      "metadata": {
        "id": "BE8dq__tOjKT"
      },
      "execution_count": 70,
      "outputs": []
    },
    {
      "cell_type": "code",
      "source": [
        "model = ResNet50(input_shape = (32, 32, 3), classes = 10)\n",
        "model.compile(optimizer='adam', loss='sparse_categorical_crossentropy', metrics=['accuracy'])"
      ],
      "metadata": {
        "id": "xl7n9e3tOmJR"
      },
      "execution_count": 71,
      "outputs": []
    },
    {
      "cell_type": "code",
      "source": [
        "history = model.fit(x_train, y_train, epochs = 5, batch_size = 32, validation_split= 0.1)"
      ],
      "metadata": {
        "colab": {
          "base_uri": "https://localhost:8080/"
        },
        "id": "E6vZun4fOtbk",
        "outputId": "cb8fc3d3-ec55-49db-8d6c-4c6ccee2dfe4"
      },
      "execution_count": 72,
      "outputs": [
        {
          "output_type": "stream",
          "name": "stdout",
          "text": [
            "Epoch 1/5\n",
            "1688/1688 [==============================] - 85s 47ms/step - loss: 0.6554 - accuracy: 0.7792 - val_loss: 0.4667 - val_accuracy: 0.8243\n",
            "Epoch 2/5\n",
            "1688/1688 [==============================] - 78s 46ms/step - loss: 0.4165 - accuracy: 0.8518 - val_loss: 0.4822 - val_accuracy: 0.8472\n",
            "Epoch 3/5\n",
            "1688/1688 [==============================] - 78s 46ms/step - loss: 0.4165 - accuracy: 0.8497 - val_loss: 0.4216 - val_accuracy: 0.8545\n",
            "Epoch 4/5\n",
            "1688/1688 [==============================] - 78s 46ms/step - loss: 0.3840 - accuracy: 0.8644 - val_loss: 0.3615 - val_accuracy: 0.8805\n",
            "Epoch 5/5\n",
            "1688/1688 [==============================] - 78s 46ms/step - loss: 0.3571 - accuracy: 0.8734 - val_loss: 0.4468 - val_accuracy: 0.8235\n"
          ]
        }
      ]
    },
    {
      "cell_type": "code",
      "execution_count": 73,
      "metadata": {
        "colab": {
          "base_uri": "https://localhost:8080/",
          "height": 910
        },
        "outputId": "1466de8c-5b2c-4b2a-fc19-4c35595d898e",
        "id": "TWsRxbY2azYt"
      },
      "outputs": [
        {
          "output_type": "execute_result",
          "data": {
            "text/plain": [
              "<matplotlib.legend.Legend at 0x7f1f0bd02190>"
            ]
          },
          "metadata": {},
          "execution_count": 73
        },
        {
          "output_type": "display_data",
          "data": {
            "text/plain": [
              "<Figure size 1080x1080 with 2 Axes>"
            ],
            "image/png": "[encoded data removed]"
          },
          "metadata": {
            "needs_background": "light"
          }
        }
      ],
      "source": [
        "import matplotlib.pyplot as plt\n",
        "fig, axs = plt.subplots(2, 1, figsize=(15,15))\n",
        "axs[0].plot(history.history['loss'])\n",
        "axs[0].plot(history.history['val_loss'])\n",
        "axs[0].title.set_text('Training Loss vs Validation Loss')\n",
        "axs[0].set_xlabel('Epochs')\n",
        "axs[0].set_ylabel('Loss')\n",
        "axs[0].legend(['Train','Val'])\n",
        "axs[1].plot(history.history['accuracy'])\n",
        "axs[1].plot(history.history['val_accuracy'])\n",
        "axs[1].title.set_text('Training Accuracy vs Validation Accuracy')\n",
        "axs[1].set_xlabel('Epochs')\n",
        "axs[1].set_ylabel('Accuracy')\n",
        "axs[1].legend(['Train', 'Val'])"
      ]
    },
    {
      "cell_type": "code",
      "source": [
        "model.evaluate(x_test,y_test)"
      ],
      "metadata": {
        "colab": {
          "base_uri": "https://localhost:8080/"
        },
        "id": "SKSlvFFLSE1B",
        "outputId": "a8cb98a1-0e56-46d5-ce19-ae438dd4de93"
      },
      "execution_count": 74,
      "outputs": [
        {
          "output_type": "stream",
          "name": "stdout",
          "text": [
            "313/313 [==============================] - 6s 18ms/step - loss: 0.4645 - accuracy: 0.8199\n"
          ]
        },
        {
          "output_type": "execute_result",
          "data": {
            "text/plain": [
              "[0.4644811451435089, 0.8198999762535095]"
            ]
          },
          "metadata": {},
          "execution_count": 74
        }
      ]
    },
    {
      "cell_type": "markdown",
      "source": [
        "##Post-training quantization"
      ],
      "metadata": {
        "id": "4Mx1IrUSpuuY"
      }
    },
    {
      "cell_type": "code",
      "source": [
        "#Converts a TensorFlow model into TensorFlow Lite model\n",
        "converter = tf.lite.TFLiteConverter.from_keras_model(model)\n",
        "tflite_origin_model = converter.convert()"
      ],
      "metadata": {
        "colab": {
          "base_uri": "https://localhost:8080/"
        },
        "id": "oE26vLcuP29u",
        "outputId": "9f0a35c3-cded-4644-f4ac-44dbdb7ad357"
      },
      "execution_count": 75,
      "outputs": [
        {
          "output_type": "stream",
          "name": "stdout",
          "text": [
            "INFO:tensorflow:Assets written to: /tmp/tmp23pe0y9j/assets\n"
          ]
        },
        {
          "output_type": "stream",
          "name": "stderr",
          "text": [
            "INFO:tensorflow:Assets written to: /tmp/tmp23pe0y9j/assets\n",
            "WARNING:absl:Buffer deduplication procedure will be skipped when flatbuffer library is not properly loaded\n"
          ]
        }
      ]
    },
    {
      "cell_type": "code",
      "source": [
        "#Model with quantizes weights 16 float\n",
        "converter = tf.lite.TFLiteConverter.from_keras_model(model)\n",
        "converter.optimizations = [tf.lite.Optimize.DEFAULT] #DEFAULT Default optimization strategy that quantizes model weights.\n",
        "converter.target_spec.supported_types = [tf.float16]\n",
        "tflite_model_quant_16 = converter.convert()"
      ],
      "metadata": {
        "colab": {
          "base_uri": "https://localhost:8080/"
        },
        "id": "PXOU5F4fx0am",
        "outputId": "e9d06122-f27c-4c36-b987-b9a4ea1dc8a9"
      },
      "execution_count": 76,
      "outputs": [
        {
          "output_type": "stream",
          "name": "stdout",
          "text": [
            "INFO:tensorflow:Assets written to: /tmp/tmpxm8s62qr/assets\n"
          ]
        },
        {
          "output_type": "stream",
          "name": "stderr",
          "text": [
            "INFO:tensorflow:Assets written to: /tmp/tmpxm8s62qr/assets\n",
            "WARNING:absl:Buffer deduplication procedure will be skipped when flatbuffer library is not properly loaded\n"
          ]
        }
      ]
    },
    {
      "cell_type": "code",
      "source": [
        "#Model with quantizes weights 8int\n",
        "converter = tf.lite.TFLiteConverter.from_keras_model(model)\n",
        "converter.optimizations = [tf.lite.Optimize.DEFAULT]\n",
        "tflite_model_quant_8 = converter.convert()"
      ],
      "metadata": {
        "colab": {
          "base_uri": "https://localhost:8080/"
        },
        "id": "clnZX0Ijx6DJ",
        "outputId": "57b17179-b04d-4edf-b3fa-e596e6b4505a"
      },
      "execution_count": 84,
      "outputs": [
        {
          "output_type": "stream",
          "name": "stdout",
          "text": [
            "INFO:tensorflow:Assets written to: /tmp/tmpwqr566ej/assets\n"
          ]
        },
        {
          "output_type": "stream",
          "name": "stderr",
          "text": [
            "INFO:tensorflow:Assets written to: /tmp/tmpwqr566ej/assets\n",
            "WARNING:absl:Buffer deduplication procedure will be skipped when flatbuffer library is not properly loaded\n"
          ]
        }
      ]
    },
    {
      "cell_type": "code",
      "source": [
        "import pathlib\n",
        "\n",
        "tflite_models_dir = pathlib.Path(\"/tmp/mnist_tflite_models/\")\n",
        "tflite_models_dir.mkdir(exist_ok=True, parents=True)\n",
        "\n",
        "# Save the unquantized/float model:\n",
        "tflite_model_file = tflite_models_dir/\"mnist_model.tflite\"\n",
        "tflite_model_file.write_bytes(tflite_origin_model)\n",
        "# Save the quantized model:\n",
        "tflite_model_quant_16_file = tflite_models_dir/\"model_quant16f.tflite\"\n",
        "tflite_model_quant_16_file.write_bytes(bytes(tflite_model_quant_16))\n",
        "# Save the quantized model:\n",
        "tflite_model_quant_8_file = tflite_models_dir/\"model_quant8u.tflite\"\n",
        "tflite_model_quant_8_file.write_bytes(bytes(tflite_model_quant_8))"
      ],
      "metadata": {
        "colab": {
          "base_uri": "https://localhost:8080/"
        },
        "id": "yPSmtTtcx-B0",
        "outputId": "f528d227-9bc4-432d-a99c-433a14e8d607"
      },
      "execution_count": 85,
      "outputs": [
        {
          "output_type": "execute_result",
          "data": {
            "text/plain": [
              "26200336"
            ]
          },
          "metadata": {},
          "execution_count": 85
        }
      ]
    },
    {
      "cell_type": "code",
      "execution_count": 91,
      "metadata": {
        "id": "c2hzhAQyomZl"
      },
      "outputs": [],
      "source": [
        "# Helper function to run inference on a TFLite model\n",
        "def run_tflite_model(tflite_file, test_image_indices):\n",
        "  global x_test\n",
        "  #x_test = x_test[-500:]\n",
        "\n",
        "  # Initialize the interpreter\n",
        "  interpreter = tf.lite.Interpreter(model_path=str(tflite_file)) #Interpreter interface for running TensorFlow Lite models.\n",
        "  interpreter.allocate_tensors()\n",
        "\n",
        "  input_details = interpreter.get_input_details()[0]\n",
        "  output_details = interpreter.get_output_details()[0]\n",
        "\n",
        "  predictions = np.zeros((len(test_image_indices),), dtype=int)\n",
        "  for i, test_image_index in enumerate(test_image_indices):\n",
        "    test_image = x_test[test_image_index]\n",
        "    test_label = y_test[test_image_index]\n",
        "\n",
        "    # Check if the input type is quantized, then rescale input data to uint8\n",
        "    if input_details['dtype'] == np.uint8:\n",
        "      input_scale, input_zero_point = input_details[\"quantization\"]\n",
        "      test_image = test_image / input_scale + input_zero_point\n",
        "\n",
        "\n",
        "    test_image = np.expand_dims(test_image, axis=0).astype(input_details[\"dtype\"])\n",
        "    #we want to avoid copying, so we  use the tensor() function to get a numpy buffer pointing\n",
        "    #to the input buffer in the tflite interpreter.\n",
        "    interpreter.set_tensor(input_details[\"index\"], test_image) \n",
        "    interpreter.invoke()\n",
        "    output = interpreter.get_tensor(output_details[\"index\"])[0]\n",
        "\n",
        "    predictions[i] = output.argmax()\n",
        "    #print(i)\n",
        "\n",
        "  return predictions"
      ]
    },
    {
      "cell_type": "code",
      "execution_count": 92,
      "metadata": {
        "id": "OwYhZTBGoog2"
      },
      "outputs": [],
      "source": [
        "# Helper function to evaluate a TFLite model on all images\n",
        "import time\n",
        "def evaluate_model(tflite_file, model_type):\n",
        "  global x_test\n",
        "  global y_test\n",
        "  #x_test = x_test[-500:]\n",
        "  #y_test = y_test[-500:]\n",
        "\n",
        "  start_time = time.time()\n",
        "  test_image_indices = range(x_test.shape[0])\n",
        "  predictions = run_tflite_model(tflite_file, test_image_indices)\n",
        "  #print(\"here pred\")\n",
        "  accuracy = (np.sum(y_test == predictions) * 100) / len(x_test)\n",
        "  spent_time = time.time() - start_time\n",
        "  print('%s model accuracy is %.4f%% (Number of test samples=%d) , time = %f' % (\n",
        "      model_type, accuracy, len(x_test), spent_time/len(x_test) ))"
      ]
    },
    {
      "cell_type": "code",
      "execution_count": 93,
      "metadata": {
        "colab": {
          "base_uri": "https://localhost:8080/"
        },
        "outputId": "942e5699-1687-4fe6-bfba-5e16ac2d6b38",
        "id": "62oANITUoqx5"
      },
      "outputs": [
        {
          "output_type": "stream",
          "name": "stdout",
          "text": [
            "Original model accuracy is 85.4000% (Number of test samples=500) , time = 0.014745\n",
            "Quantized 16float model accuracy is 85.4000% (Number of test samples=500) , time = 0.013728\n",
            "Quantized 8int model accuracy is 85.4000% (Number of test samples=500) , time = 0.251478\n"
          ]
        }
      ],
      "source": [
        "evaluate_model(tflite_model_file, model_type=\"Original\")\n",
        "evaluate_model(tflite_model_quant_16_file, model_type=\"Quantized 16float\")\n",
        "evaluate_model(tflite_model_quant_8_file, model_type=\"Quantized 8int\")"
      ]
    },
    {
      "cell_type": "code",
      "source": [
        "import os\n",
        "print(\"Original model in Mb:\", os.path.getsize(tflite_model_file) / float(2**20))\n",
        "print(\"Quantized 16f model in Mb:\", os.path.getsize(tflite_model_quant_16_file) / float(2**20))\n",
        "print(\"Quantized 8u model in Mb:\", os.path.getsize(tflite_model_quant_8_file) / float(2**20))"
      ],
      "metadata": {
        "colab": {
          "base_uri": "https://localhost:8080/"
        },
        "id": "raC_i4KvyI16",
        "outputId": "2fa20547-acd3-42d3-a281-ad5f38cf6022"
      },
      "execution_count": 87,
      "outputs": [
        {
          "output_type": "stream",
          "name": "stdout",
          "text": [
            "Original model in Mb: 97.46932601928711\n",
            "Quantized 16f model in Mb: 48.776214599609375\n",
            "Quantized 8u model in Mb: 24.986587524414062\n"
          ]
        }
      ]
    },
    {
      "cell_type": "markdown",
      "source": [
        "##Aware quantization taining"
      ],
      "metadata": {
        "id": "cNGrI8D6p0U1"
      }
    },
    {
      "cell_type": "code",
      "source": [
        " !pip install -q tensorflow\n",
        " !pip install -q tensorflow-model-optimization"
      ],
      "metadata": {
        "id": "mZickZsXAHLH"
      },
      "execution_count": 94,
      "outputs": []
    },
    {
      "cell_type": "code",
      "source": [
        "import tensorflow_model_optimization as tfmot\n",
        "\n",
        "quantize_model = tfmot.quantization.keras.quantize_model\n",
        "\n",
        "# q_aware stands for for quantization aware.\n",
        "q_aware_model = quantize_model(model)\n",
        "\n",
        "# `quantize_model` requires a recompile.\n",
        "q_aware_model.compile(optimizer='adam',\n",
        "              loss=tf.keras.losses.SparseCategoricalCrossentropy(from_logits=True),\n",
        "              metrics=['accuracy'])\n",
        "\n",
        "q_aware_model.summary()"
      ],
      "metadata": {
        "colab": {
          "base_uri": "https://localhost:8080/"
        },
        "id": "qG1qhJ4a-6hA",
        "outputId": "442d7392-e558-4674-e5b6-da1fbe55fea3"
      },
      "execution_count": 95,
      "outputs": [
        {
          "output_type": "stream",
          "name": "stdout",
          "text": [
            "Model: \"ResNet50\"\n",
            "__________________________________________________________________________________________________\n",
            " Layer (type)                   Output Shape         Param #     Connected to                     \n",
            "==================================================================================================\n",
            " input_9 (InputLayer)           [(None, 32, 32, 3)]  0           []                               \n",
            "                                                                                                  \n",
            " quantize_layer_4 (QuantizeLaye  (None, 32, 32, 3)   3           ['input_9[0][0]']                \n",
            " r)                                                                                               \n",
            "                                                                                                  \n",
            " quant_zero_padding2d_8 (Quanti  (None, 38, 38, 3)   1           ['quantize_layer_4[1][0]']       \n",
            " zeWrapperV2)                                                                                     \n",
            "                                                                                                  \n",
            " quant_conv_1 (QuantizeWrapperV  (None, 16, 16, 64)  9601        ['quant_zero_padding2d_8[0][0]'] \n",
            " 2)                                                                                               \n",
            "                                                                                                  \n",
            " quant_bn_1 (QuantizeWrapperV2)  (None, 16, 16, 64)  257         ['quant_conv_1[0][0]']           \n",
            "                                                                                                  \n",
            " quant_activation_392 (Quantize  (None, 16, 16, 64)  3           ['quant_bn_1[0][0]']             \n",
            " WrapperV2)                                                                                       \n",
            "                                                                                                  \n",
            " quant_max_pooling2d_8 (Quantiz  (None, 7, 7, 64)    1           ['quant_activation_392[0][0]']   \n",
            " eWrapperV2)                                                                                      \n",
            "                                                                                                  \n",
            " quant_res2a_first_component (Q  (None, 7, 7, 64)    4289        ['quant_max_pooling2d_8[0][0]']  \n",
            " uantizeWrapperV2)                                                                                \n",
            "                                                                                                  \n",
            " quant_bn2a_first_component (Qu  (None, 7, 7, 64)    257         ['quant_res2a_first_component[0][\n",
            " antizeWrapperV2)                                                0]']                             \n",
            "                                                                                                  \n",
            " quant_activation_393 (Quantize  (None, 7, 7, 64)    3           ['quant_bn2a_first_component[0][0\n",
            " WrapperV2)                                                      ]']                              \n",
            "                                                                                                  \n",
            " quant_res2a_second_component (  (None, 7, 7, 64)    37057       ['quant_activation_393[0][0]']   \n",
            " QuantizeWrapperV2)                                                                               \n",
            "                                                                                                  \n",
            " quant_bn2a_second_component (Q  (None, 7, 7, 64)    257         ['quant_res2a_second_component[0]\n",
            " uantizeWrapperV2)                                               [0]']                            \n",
            "                                                                                                  \n",
            " quant_activation_394 (Quantize  (None, 7, 7, 64)    3           ['quant_bn2a_second_component[0][\n",
            " WrapperV2)                                                      0]']                             \n",
            "                                                                                                  \n",
            " quant_res2a_third_component (Q  (None, 7, 7, 256)   17153       ['quant_activation_394[0][0]']   \n",
            " uantizeWrapperV2)                                                                                \n",
            "                                                                                                  \n",
            " quant_res2a_merge (QuantizeWra  (None, 7, 7, 256)   17153       ['quant_max_pooling2d_8[0][0]']  \n",
            " pperV2)                                                                                          \n",
            "                                                                                                  \n",
            " quant_bn2a_third_component (Qu  (None, 7, 7, 256)   1027        ['quant_res2a_third_component[0][\n",
            " antizeWrapperV2)                                                0]']                             \n",
            "                                                                                                  \n",
            " quant_bn2a_merge (QuantizeWrap  (None, 7, 7, 256)   1027        ['quant_res2a_merge[0][0]']      \n",
            " perV2)                                                                                           \n",
            "                                                                                                  \n",
            " quant_add_128 (QuantizeWrapper  (None, 7, 7, 256)   1           ['quant_bn2a_third_component[0][0\n",
            " V2)                                                             ]',                              \n",
            "                                                                  'quant_bn2a_merge[0][0]']       \n",
            "                                                                                                  \n",
            " quant_activation_395 (Quantize  (None, 7, 7, 256)   3           ['quant_add_128[0][0]']          \n",
            " WrapperV2)                                                                                       \n",
            "                                                                                                  \n",
            " quant_res2b_first_component (Q  (None, 7, 7, 64)    16577       ['quant_activation_395[0][0]']   \n",
            " uantizeWrapperV2)                                                                                \n",
            "                                                                                                  \n",
            " quant_bn2b_first_component (Qu  (None, 7, 7, 64)    257         ['quant_res2b_first_component[0][\n",
            " antizeWrapperV2)                                                0]']                             \n",
            "                                                                                                  \n",
            " quant_activation_396 (Quantize  (None, 7, 7, 64)    3           ['quant_bn2b_first_component[0][0\n",
            " WrapperV2)                                                      ]']                              \n",
            "                                                                                                  \n",
            " quant_res2b_second_component (  (None, 7, 7, 64)    37057       ['quant_activation_396[0][0]']   \n",
            " QuantizeWrapperV2)                                                                               \n",
            "                                                                                                  \n",
            " quant_bn2b_second_component (Q  (None, 7, 7, 64)    257         ['quant_res2b_second_component[0]\n",
            " uantizeWrapperV2)                                               [0]']                            \n",
            "                                                                                                  \n",
            " quant_activation_397 (Quantize  (None, 7, 7, 64)    3           ['quant_bn2b_second_component[0][\n",
            " WrapperV2)                                                      0]']                             \n",
            "                                                                                                  \n",
            " quant_res2b_third_component (Q  (None, 7, 7, 256)   17153       ['quant_activation_397[0][0]']   \n",
            " uantizeWrapperV2)                                                                                \n",
            "                                                                                                  \n",
            " quant_bn2b_third_component (Qu  (None, 7, 7, 256)   1027        ['quant_res2b_third_component[0][\n",
            " antizeWrapperV2)                                                0]']                             \n",
            "                                                                                                  \n",
            " quant_add_129 (QuantizeWrapper  (None, 7, 7, 256)   1           ['quant_bn2b_third_component[0][0\n",
            " V2)                                                             ]',                              \n",
            "                                                                  'quant_activation_395[0][0]']   \n",
            "                                                                                                  \n",
            " quant_activation_398 (Quantize  (None, 7, 7, 256)   3           ['quant_add_129[0][0]']          \n",
            " WrapperV2)                                                                                       \n",
            "                                                                                                  \n",
            " quant_res2c_first_component (Q  (None, 7, 7, 64)    16577       ['quant_activation_398[0][0]']   \n",
            " uantizeWrapperV2)                                                                                \n",
            "                                                                                                  \n",
            " quant_bn2c_first_component (Qu  (None, 7, 7, 64)    257         ['quant_res2c_first_component[0][\n",
            " antizeWrapperV2)                                                0]']                             \n",
            "                                                                                                  \n",
            " quant_activation_399 (Quantize  (None, 7, 7, 64)    3           ['quant_bn2c_first_component[0][0\n",
            " WrapperV2)                                                      ]']                              \n",
            "                                                                                                  \n",
            " quant_res2c_second_component (  (None, 7, 7, 64)    37057       ['quant_activation_399[0][0]']   \n",
            " QuantizeWrapperV2)                                                                               \n",
            "                                                                                                  \n",
            " quant_bn2c_second_component (Q  (None, 7, 7, 64)    257         ['quant_res2c_second_component[0]\n",
            " uantizeWrapperV2)                                               [0]']                            \n",
            "                                                                                                  \n",
            " quant_activation_400 (Quantize  (None, 7, 7, 64)    3           ['quant_bn2c_second_component[0][\n",
            " WrapperV2)                                                      0]']                             \n",
            "                                                                                                  \n",
            " quant_res2c_third_component (Q  (None, 7, 7, 256)   17153       ['quant_activation_400[0][0]']   \n",
            " uantizeWrapperV2)                                                                                \n",
            "                                                                                                  \n",
            " quant_bn2c_third_component (Qu  (None, 7, 7, 256)   1027        ['quant_res2c_third_component[0][\n",
            " antizeWrapperV2)                                                0]']                             \n",
            "                                                                                                  \n",
            " quant_add_130 (QuantizeWrapper  (None, 7, 7, 256)   1           ['quant_bn2c_third_component[0][0\n",
            " V2)                                                             ]',                              \n",
            "                                                                  'quant_activation_398[0][0]']   \n",
            "                                                                                                  \n",
            " quant_activation_401 (Quantize  (None, 7, 7, 256)   3           ['quant_add_130[0][0]']          \n",
            " WrapperV2)                                                                                       \n",
            "                                                                                                  \n",
            " quant_res3a_first_component (Q  (None, 4, 4, 128)   33153       ['quant_activation_401[0][0]']   \n",
            " uantizeWrapperV2)                                                                                \n",
            "                                                                                                  \n",
            " quant_bn3a_first_component (Qu  (None, 4, 4, 128)   513         ['quant_res3a_first_component[0][\n",
            " antizeWrapperV2)                                                0]']                             \n",
            "                                                                                                  \n",
            " quant_activation_402 (Quantize  (None, 4, 4, 128)   3           ['quant_bn3a_first_component[0][0\n",
            " WrapperV2)                                                      ]']                              \n",
            "                                                                                                  \n",
            " quant_res3a_second_component (  (None, 4, 4, 128)   147841      ['quant_activation_402[0][0]']   \n",
            " QuantizeWrapperV2)                                                                               \n",
            "                                                                                                  \n",
            " quant_bn3a_second_component (Q  (None, 4, 4, 128)   513         ['quant_res3a_second_component[0]\n",
            " uantizeWrapperV2)                                               [0]']                            \n",
            "                                                                                                  \n",
            " quant_activation_403 (Quantize  (None, 4, 4, 128)   3           ['quant_bn3a_second_component[0][\n",
            " WrapperV2)                                                      0]']                             \n",
            "                                                                                                  \n",
            " quant_res3a_third_component (Q  (None, 4, 4, 512)   67073       ['quant_activation_403[0][0]']   \n",
            " uantizeWrapperV2)                                                                                \n",
            "                                                                                                  \n",
            " quant_res3a_merge (QuantizeWra  (None, 4, 4, 512)   132609      ['quant_activation_401[0][0]']   \n",
            " pperV2)                                                                                          \n",
            "                                                                                                  \n",
            " quant_bn3a_third_component (Qu  (None, 4, 4, 512)   2051        ['quant_res3a_third_component[0][\n",
            " antizeWrapperV2)                                                0]']                             \n",
            "                                                                                                  \n",
            " quant_bn3a_merge (QuantizeWrap  (None, 4, 4, 512)   2051        ['quant_res3a_merge[0][0]']      \n",
            " perV2)                                                                                           \n",
            "                                                                                                  \n",
            " quant_add_131 (QuantizeWrapper  (None, 4, 4, 512)   1           ['quant_bn3a_third_component[0][0\n",
            " V2)                                                             ]',                              \n",
            "                                                                  'quant_bn3a_merge[0][0]']       \n",
            "                                                                                                  \n",
            " quant_activation_404 (Quantize  (None, 4, 4, 512)   3           ['quant_add_131[0][0]']          \n",
            " WrapperV2)                                                                                       \n",
            "                                                                                                  \n",
            " quant_res3b_first_component (Q  (None, 4, 4, 128)   65921       ['quant_activation_404[0][0]']   \n",
            " uantizeWrapperV2)                                                                                \n",
            "                                                                                                  \n",
            " quant_bn3b_first_component (Qu  (None, 4, 4, 128)   513         ['quant_res3b_first_component[0][\n",
            " antizeWrapperV2)                                                0]']                             \n",
            "                                                                                                  \n",
            " quant_activation_405 (Quantize  (None, 4, 4, 128)   3           ['quant_bn3b_first_component[0][0\n",
            " WrapperV2)                                                      ]']                              \n",
            "                                                                                                  \n",
            " quant_res3b_second_component (  (None, 4, 4, 128)   147841      ['quant_activation_405[0][0]']   \n",
            " QuantizeWrapperV2)                                                                               \n",
            "                                                                                                  \n",
            " quant_bn3b_second_component (Q  (None, 4, 4, 128)   513         ['quant_res3b_second_component[0]\n",
            " uantizeWrapperV2)                                               [0]']                            \n",
            "                                                                                                  \n",
            " quant_activation_406 (Quantize  (None, 4, 4, 128)   3           ['quant_bn3b_second_component[0][\n",
            " WrapperV2)                                                      0]']                             \n",
            "                                                                                                  \n",
            " quant_res3b_third_component (Q  (None, 4, 4, 512)   67073       ['quant_activation_406[0][0]']   \n",
            " uantizeWrapperV2)                                                                                \n",
            "                                                                                                  \n",
            " quant_bn3b_third_component (Qu  (None, 4, 4, 512)   2051        ['quant_res3b_third_component[0][\n",
            " antizeWrapperV2)                                                0]']                             \n",
            "                                                                                                  \n",
            " quant_add_132 (QuantizeWrapper  (None, 4, 4, 512)   1           ['quant_bn3b_third_component[0][0\n",
            " V2)                                                             ]',                              \n",
            "                                                                  'quant_activation_404[0][0]']   \n",
            "                                                                                                  \n",
            " quant_activation_407 (Quantize  (None, 4, 4, 512)   3           ['quant_add_132[0][0]']          \n",
            " WrapperV2)                                                                                       \n",
            "                                                                                                  \n",
            " quant_res3c_first_component (Q  (None, 4, 4, 128)   65921       ['quant_activation_407[0][0]']   \n",
            " uantizeWrapperV2)                                                                                \n",
            "                                                                                                  \n",
            " quant_bn3c_first_component (Qu  (None, 4, 4, 128)   513         ['quant_res3c_first_component[0][\n",
            " antizeWrapperV2)                                                0]']                             \n",
            "                                                                                                  \n",
            " quant_activation_408 (Quantize  (None, 4, 4, 128)   3           ['quant_bn3c_first_component[0][0\n",
            " WrapperV2)                                                      ]']                              \n",
            "                                                                                                  \n",
            " quant_res3c_second_component (  (None, 4, 4, 128)   147841      ['quant_activation_408[0][0]']   \n",
            " QuantizeWrapperV2)                                                                               \n",
            "                                                                                                  \n",
            " quant_bn3c_second_component (Q  (None, 4, 4, 128)   513         ['quant_res3c_second_component[0]\n",
            " uantizeWrapperV2)                                               [0]']                            \n",
            "                                                                                                  \n",
            " quant_activation_409 (Quantize  (None, 4, 4, 128)   3           ['quant_bn3c_second_component[0][\n",
            " WrapperV2)                                                      0]']                             \n",
            "                                                                                                  \n",
            " quant_res3c_third_component (Q  (None, 4, 4, 512)   67073       ['quant_activation_409[0][0]']   \n",
            " uantizeWrapperV2)                                                                                \n",
            "                                                                                                  \n",
            " quant_bn3c_third_component (Qu  (None, 4, 4, 512)   2051        ['quant_res3c_third_component[0][\n",
            " antizeWrapperV2)                                                0]']                             \n",
            "                                                                                                  \n",
            " quant_add_133 (QuantizeWrapper  (None, 4, 4, 512)   1           ['quant_bn3c_third_component[0][0\n",
            " V2)                                                             ]',                              \n",
            "                                                                  'quant_activation_407[0][0]']   \n",
            "                                                                                                  \n",
            " quant_activation_410 (Quantize  (None, 4, 4, 512)   3           ['quant_add_133[0][0]']          \n",
            " WrapperV2)                                                                                       \n",
            "                                                                                                  \n",
            " quant_res3d_first_component (Q  (None, 4, 4, 128)   65921       ['quant_activation_410[0][0]']   \n",
            " uantizeWrapperV2)                                                                                \n",
            "                                                                                                  \n",
            " quant_bn3d_first_component (Qu  (None, 4, 4, 128)   513         ['quant_res3d_first_component[0][\n",
            " antizeWrapperV2)                                                0]']                             \n",
            "                                                                                                  \n",
            " quant_activation_411 (Quantize  (None, 4, 4, 128)   3           ['quant_bn3d_first_component[0][0\n",
            " WrapperV2)                                                      ]']                              \n",
            "                                                                                                  \n",
            " quant_res3d_second_component (  (None, 4, 4, 128)   147841      ['quant_activation_411[0][0]']   \n",
            " QuantizeWrapperV2)                                                                               \n",
            "                                                                                                  \n",
            " quant_bn3d_second_component (Q  (None, 4, 4, 128)   513         ['quant_res3d_second_component[0]\n",
            " uantizeWrapperV2)                                               [0]']                            \n",
            "                                                                                                  \n",
            " quant_activation_412 (Quantize  (None, 4, 4, 128)   3           ['quant_bn3d_second_component[0][\n",
            " WrapperV2)                                                      0]']                             \n",
            "                                                                                                  \n",
            " quant_res3d_third_component (Q  (None, 4, 4, 512)   67073       ['quant_activation_412[0][0]']   \n",
            " uantizeWrapperV2)                                                                                \n",
            "                                                                                                  \n",
            " quant_bn3d_third_component (Qu  (None, 4, 4, 512)   2051        ['quant_res3d_third_component[0][\n",
            " antizeWrapperV2)                                                0]']                             \n",
            "                                                                                                  \n",
            " quant_add_134 (QuantizeWrapper  (None, 4, 4, 512)   1           ['quant_bn3d_third_component[0][0\n",
            " V2)                                                             ]',                              \n",
            "                                                                  'quant_activation_410[0][0]']   \n",
            "                                                                                                  \n",
            " quant_activation_413 (Quantize  (None, 4, 4, 512)   3           ['quant_add_134[0][0]']          \n",
            " WrapperV2)                                                                                       \n",
            "                                                                                                  \n",
            " quant_res4a_first_component (Q  (None, 2, 2, 256)   131841      ['quant_activation_413[0][0]']   \n",
            " uantizeWrapperV2)                                                                                \n",
            "                                                                                                  \n",
            " quant_bn4a_first_component (Qu  (None, 2, 2, 256)   1025        ['quant_res4a_first_component[0][\n",
            " antizeWrapperV2)                                                0]']                             \n",
            "                                                                                                  \n",
            " quant_activation_414 (Quantize  (None, 2, 2, 256)   3           ['quant_bn4a_first_component[0][0\n",
            " WrapperV2)                                                      ]']                              \n",
            "                                                                                                  \n",
            " quant_res4a_second_component (  (None, 2, 2, 256)   590593      ['quant_activation_414[0][0]']   \n",
            " QuantizeWrapperV2)                                                                               \n",
            "                                                                                                  \n",
            " quant_bn4a_second_component (Q  (None, 2, 2, 256)   1025        ['quant_res4a_second_component[0]\n",
            " uantizeWrapperV2)                                               [0]']                            \n",
            "                                                                                                  \n",
            " quant_activation_415 (Quantize  (None, 2, 2, 256)   3           ['quant_bn4a_second_component[0][\n",
            " WrapperV2)                                                      0]']                             \n",
            "                                                                                                  \n",
            " quant_res4a_third_component (Q  (None, 2, 2, 1024)  265217      ['quant_activation_415[0][0]']   \n",
            " uantizeWrapperV2)                                                                                \n",
            "                                                                                                  \n",
            " quant_res4a_merge (QuantizeWra  (None, 2, 2, 1024)  527361      ['quant_activation_413[0][0]']   \n",
            " pperV2)                                                                                          \n",
            "                                                                                                  \n",
            " quant_bn4a_third_component (Qu  (None, 2, 2, 1024)  4099        ['quant_res4a_third_component[0][\n",
            " antizeWrapperV2)                                                0]']                             \n",
            "                                                                                                  \n",
            " quant_bn4a_merge (QuantizeWrap  (None, 2, 2, 1024)  4099        ['quant_res4a_merge[0][0]']      \n",
            " perV2)                                                                                           \n",
            "                                                                                                  \n",
            " quant_add_135 (QuantizeWrapper  (None, 2, 2, 1024)  1           ['quant_bn4a_third_component[0][0\n",
            " V2)                                                             ]',                              \n",
            "                                                                  'quant_bn4a_merge[0][0]']       \n",
            "                                                                                                  \n",
            " quant_activation_416 (Quantize  (None, 2, 2, 1024)  3           ['quant_add_135[0][0]']          \n",
            " WrapperV2)                                                                                       \n",
            "                                                                                                  \n",
            " quant_res4b_first_component (Q  (None, 2, 2, 256)   262913      ['quant_activation_416[0][0]']   \n",
            " uantizeWrapperV2)                                                                                \n",
            "                                                                                                  \n",
            " quant_bn4b_first_component (Qu  (None, 2, 2, 256)   1025        ['quant_res4b_first_component[0][\n",
            " antizeWrapperV2)                                                0]']                             \n",
            "                                                                                                  \n",
            " quant_activation_417 (Quantize  (None, 2, 2, 256)   3           ['quant_bn4b_first_component[0][0\n",
            " WrapperV2)                                                      ]']                              \n",
            "                                                                                                  \n",
            " quant_res4b_second_component (  (None, 2, 2, 256)   590593      ['quant_activation_417[0][0]']   \n",
            " QuantizeWrapperV2)                                                                               \n",
            "                                                                                                  \n",
            " quant_bn4b_second_component (Q  (None, 2, 2, 256)   1025        ['quant_res4b_second_component[0]\n",
            " uantizeWrapperV2)                                               [0]']                            \n",
            "                                                                                                  \n",
            " quant_activation_418 (Quantize  (None, 2, 2, 256)   3           ['quant_bn4b_second_component[0][\n",
            " WrapperV2)                                                      0]']                             \n",
            "                                                                                                  \n",
            " quant_res4b_third_component (Q  (None, 2, 2, 1024)  265217      ['quant_activation_418[0][0]']   \n",
            " uantizeWrapperV2)                                                                                \n",
            "                                                                                                  \n",
            " quant_bn4b_third_component (Qu  (None, 2, 2, 1024)  4099        ['quant_res4b_third_component[0][\n",
            " antizeWrapperV2)                                                0]']                             \n",
            "                                                                                                  \n",
            " quant_add_136 (QuantizeWrapper  (None, 2, 2, 1024)  1           ['quant_bn4b_third_component[0][0\n",
            " V2)                                                             ]',                              \n",
            "                                                                  'quant_activation_416[0][0]']   \n",
            "                                                                                                  \n",
            " quant_activation_419 (Quantize  (None, 2, 2, 1024)  3           ['quant_add_136[0][0]']          \n",
            " WrapperV2)                                                                                       \n",
            "                                                                                                  \n",
            " quant_res4c_first_component (Q  (None, 2, 2, 256)   262913      ['quant_activation_419[0][0]']   \n",
            " uantizeWrapperV2)                                                                                \n",
            "                                                                                                  \n",
            " quant_bn4c_first_component (Qu  (None, 2, 2, 256)   1025        ['quant_res4c_first_component[0][\n",
            " antizeWrapperV2)                                                0]']                             \n",
            "                                                                                                  \n",
            " quant_activation_420 (Quantize  (None, 2, 2, 256)   3           ['quant_bn4c_first_component[0][0\n",
            " WrapperV2)                                                      ]']                              \n",
            "                                                                                                  \n",
            " quant_res4c_second_component (  (None, 2, 2, 256)   590593      ['quant_activation_420[0][0]']   \n",
            " QuantizeWrapperV2)                                                                               \n",
            "                                                                                                  \n",
            " quant_bn4c_second_component (Q  (None, 2, 2, 256)   1025        ['quant_res4c_second_component[0]\n",
            " uantizeWrapperV2)                                               [0]']                            \n",
            "                                                                                                  \n",
            " quant_activation_421 (Quantize  (None, 2, 2, 256)   3           ['quant_bn4c_second_component[0][\n",
            " WrapperV2)                                                      0]']                             \n",
            "                                                                                                  \n",
            " quant_res4c_third_component (Q  (None, 2, 2, 1024)  265217      ['quant_activation_421[0][0]']   \n",
            " uantizeWrapperV2)                                                                                \n",
            "                                                                                                  \n",
            " quant_bn4c_third_component (Qu  (None, 2, 2, 1024)  4099        ['quant_res4c_third_component[0][\n",
            " antizeWrapperV2)                                                0]']                             \n",
            "                                                                                                  \n",
            " quant_add_137 (QuantizeWrapper  (None, 2, 2, 1024)  1           ['quant_bn4c_third_component[0][0\n",
            " V2)                                                             ]',                              \n",
            "                                                                  'quant_activation_419[0][0]']   \n",
            "                                                                                                  \n",
            " quant_activation_422 (Quantize  (None, 2, 2, 1024)  3           ['quant_add_137[0][0]']          \n",
            " WrapperV2)                                                                                       \n",
            "                                                                                                  \n",
            " quant_res4d_first_component (Q  (None, 2, 2, 256)   262913      ['quant_activation_422[0][0]']   \n",
            " uantizeWrapperV2)                                                                                \n",
            "                                                                                                  \n",
            " quant_bn4d_first_component (Qu  (None, 2, 2, 256)   1025        ['quant_res4d_first_component[0][\n",
            " antizeWrapperV2)                                                0]']                             \n",
            "                                                                                                  \n",
            " quant_activation_423 (Quantize  (None, 2, 2, 256)   3           ['quant_bn4d_first_component[0][0\n",
            " WrapperV2)                                                      ]']                              \n",
            "                                                                                                  \n",
            " quant_res4d_second_component (  (None, 2, 2, 256)   590593      ['quant_activation_423[0][0]']   \n",
            " QuantizeWrapperV2)                                                                               \n",
            "                                                                                                  \n",
            " quant_bn4d_second_component (Q  (None, 2, 2, 256)   1025        ['quant_res4d_second_component[0]\n",
            " uantizeWrapperV2)                                               [0]']                            \n",
            "                                                                                                  \n",
            " quant_activation_424 (Quantize  (None, 2, 2, 256)   3           ['quant_bn4d_second_component[0][\n",
            " WrapperV2)                                                      0]']                             \n",
            "                                                                                                  \n",
            " quant_res4d_third_component (Q  (None, 2, 2, 1024)  265217      ['quant_activation_424[0][0]']   \n",
            " uantizeWrapperV2)                                                                                \n",
            "                                                                                                  \n",
            " quant_bn4d_third_component (Qu  (None, 2, 2, 1024)  4099        ['quant_res4d_third_component[0][\n",
            " antizeWrapperV2)                                                0]']                             \n",
            "                                                                                                  \n",
            " quant_add_138 (QuantizeWrapper  (None, 2, 2, 1024)  1           ['quant_bn4d_third_component[0][0\n",
            " V2)                                                             ]',                              \n",
            "                                                                  'quant_activation_422[0][0]']   \n",
            "                                                                                                  \n",
            " quant_activation_425 (Quantize  (None, 2, 2, 1024)  3           ['quant_add_138[0][0]']          \n",
            " WrapperV2)                                                                                       \n",
            "                                                                                                  \n",
            " quant_res4e_first_component (Q  (None, 2, 2, 256)   262913      ['quant_activation_425[0][0]']   \n",
            " uantizeWrapperV2)                                                                                \n",
            "                                                                                                  \n",
            " quant_bn4e_first_component (Qu  (None, 2, 2, 256)   1025        ['quant_res4e_first_component[0][\n",
            " antizeWrapperV2)                                                0]']                             \n",
            "                                                                                                  \n",
            " quant_activation_426 (Quantize  (None, 2, 2, 256)   3           ['quant_bn4e_first_component[0][0\n",
            " WrapperV2)                                                      ]']                              \n",
            "                                                                                                  \n",
            " quant_res4e_second_component (  (None, 2, 2, 256)   590593      ['quant_activation_426[0][0]']   \n",
            " QuantizeWrapperV2)                                                                               \n",
            "                                                                                                  \n",
            " quant_bn4e_second_component (Q  (None, 2, 2, 256)   1025        ['quant_res4e_second_component[0]\n",
            " uantizeWrapperV2)                                               [0]']                            \n",
            "                                                                                                  \n",
            " quant_activation_427 (Quantize  (None, 2, 2, 256)   3           ['quant_bn4e_second_component[0][\n",
            " WrapperV2)                                                      0]']                             \n",
            "                                                                                                  \n",
            " quant_res4e_third_component (Q  (None, 2, 2, 1024)  265217      ['quant_activation_427[0][0]']   \n",
            " uantizeWrapperV2)                                                                                \n",
            "                                                                                                  \n",
            " quant_bn4e_third_component (Qu  (None, 2, 2, 1024)  4099        ['quant_res4e_third_component[0][\n",
            " antizeWrapperV2)                                                0]']                             \n",
            "                                                                                                  \n",
            " quant_add_139 (QuantizeWrapper  (None, 2, 2, 1024)  1           ['quant_bn4e_third_component[0][0\n",
            " V2)                                                             ]',                              \n",
            "                                                                  'quant_activation_425[0][0]']   \n",
            "                                                                                                  \n",
            " quant_activation_428 (Quantize  (None, 2, 2, 1024)  3           ['quant_add_139[0][0]']          \n",
            " WrapperV2)                                                                                       \n",
            "                                                                                                  \n",
            " quant_res4f_first_component (Q  (None, 2, 2, 256)   262913      ['quant_activation_428[0][0]']   \n",
            " uantizeWrapperV2)                                                                                \n",
            "                                                                                                  \n",
            " quant_bn4f_first_component (Qu  (None, 2, 2, 256)   1025        ['quant_res4f_first_component[0][\n",
            " antizeWrapperV2)                                                0]']                             \n",
            "                                                                                                  \n",
            " quant_activation_429 (Quantize  (None, 2, 2, 256)   3           ['quant_bn4f_first_component[0][0\n",
            " WrapperV2)                                                      ]']                              \n",
            "                                                                                                  \n",
            " quant_res4f_second_component (  (None, 2, 2, 256)   590593      ['quant_activation_429[0][0]']   \n",
            " QuantizeWrapperV2)                                                                               \n",
            "                                                                                                  \n",
            " quant_bn4f_second_component (Q  (None, 2, 2, 256)   1025        ['quant_res4f_second_component[0]\n",
            " uantizeWrapperV2)                                               [0]']                            \n",
            "                                                                                                  \n",
            " quant_activation_430 (Quantize  (None, 2, 2, 256)   3           ['quant_bn4f_second_component[0][\n",
            " WrapperV2)                                                      0]']                             \n",
            "                                                                                                  \n",
            " quant_res4f_third_component (Q  (None, 2, 2, 1024)  265217      ['quant_activation_430[0][0]']   \n",
            " uantizeWrapperV2)                                                                                \n",
            "                                                                                                  \n",
            " quant_bn4f_third_component (Qu  (None, 2, 2, 1024)  4099        ['quant_res4f_third_component[0][\n",
            " antizeWrapperV2)                                                0]']                             \n",
            "                                                                                                  \n",
            " quant_add_140 (QuantizeWrapper  (None, 2, 2, 1024)  1           ['quant_bn4f_third_component[0][0\n",
            " V2)                                                             ]',                              \n",
            "                                                                  'quant_activation_428[0][0]']   \n",
            "                                                                                                  \n",
            " quant_activation_431 (Quantize  (None, 2, 2, 1024)  3           ['quant_add_140[0][0]']          \n",
            " WrapperV2)                                                                                       \n",
            "                                                                                                  \n",
            " quant_res5a_first_component (Q  (None, 1, 1, 512)   525825      ['quant_activation_431[0][0]']   \n",
            " uantizeWrapperV2)                                                                                \n",
            "                                                                                                  \n",
            " quant_bn5a_first_component (Qu  (None, 1, 1, 512)   2049        ['quant_res5a_first_component[0][\n",
            " antizeWrapperV2)                                                0]']                             \n",
            "                                                                                                  \n",
            " quant_activation_432 (Quantize  (None, 1, 1, 512)   3           ['quant_bn5a_first_component[0][0\n",
            " WrapperV2)                                                      ]']                              \n",
            "                                                                                                  \n",
            " quant_res5a_second_component (  (None, 1, 1, 512)   2360833     ['quant_activation_432[0][0]']   \n",
            " QuantizeWrapperV2)                                                                               \n",
            "                                                                                                  \n",
            " quant_bn5a_second_component (Q  (None, 1, 1, 512)   2049        ['quant_res5a_second_component[0]\n",
            " uantizeWrapperV2)                                               [0]']                            \n",
            "                                                                                                  \n",
            " quant_activation_433 (Quantize  (None, 1, 1, 512)   3           ['quant_bn5a_second_component[0][\n",
            " WrapperV2)                                                      0]']                             \n",
            "                                                                                                  \n",
            " quant_res5a_third_component (Q  (None, 1, 1, 2048)  1054721     ['quant_activation_433[0][0]']   \n",
            " uantizeWrapperV2)                                                                                \n",
            "                                                                                                  \n",
            " quant_res5a_merge (QuantizeWra  (None, 1, 1, 2048)  2103297     ['quant_activation_431[0][0]']   \n",
            " pperV2)                                                                                          \n",
            "                                                                                                  \n",
            " quant_bn5a_third_component (Qu  (None, 1, 1, 2048)  8195        ['quant_res5a_third_component[0][\n",
            " antizeWrapperV2)                                                0]']                             \n",
            "                                                                                                  \n",
            " quant_bn5a_merge (QuantizeWrap  (None, 1, 1, 2048)  8195        ['quant_res5a_merge[0][0]']      \n",
            " perV2)                                                                                           \n",
            "                                                                                                  \n",
            " quant_add_141 (QuantizeWrapper  (None, 1, 1, 2048)  1           ['quant_bn5a_third_component[0][0\n",
            " V2)                                                             ]',                              \n",
            "                                                                  'quant_bn5a_merge[0][0]']       \n",
            "                                                                                                  \n",
            " quant_activation_434 (Quantize  (None, 1, 1, 2048)  3           ['quant_add_141[0][0]']          \n",
            " WrapperV2)                                                                                       \n",
            "                                                                                                  \n",
            " quant_res5b_first_component (Q  (None, 1, 1, 512)   1050113     ['quant_activation_434[0][0]']   \n",
            " uantizeWrapperV2)                                                                                \n",
            "                                                                                                  \n",
            " quant_bn5b_first_component (Qu  (None, 1, 1, 512)   2049        ['quant_res5b_first_component[0][\n",
            " antizeWrapperV2)                                                0]']                             \n",
            "                                                                                                  \n",
            " quant_activation_435 (Quantize  (None, 1, 1, 512)   3           ['quant_bn5b_first_component[0][0\n",
            " WrapperV2)                                                      ]']                              \n",
            "                                                                                                  \n",
            " quant_res5b_second_component (  (None, 1, 1, 512)   2360833     ['quant_activation_435[0][0]']   \n",
            " QuantizeWrapperV2)                                                                               \n",
            "                                                                                                  \n",
            " quant_bn5b_second_component (Q  (None, 1, 1, 512)   2049        ['quant_res5b_second_component[0]\n",
            " uantizeWrapperV2)                                               [0]']                            \n",
            "                                                                                                  \n",
            " quant_activation_436 (Quantize  (None, 1, 1, 512)   3           ['quant_bn5b_second_component[0][\n",
            " WrapperV2)                                                      0]']                             \n",
            "                                                                                                  \n",
            " quant_res5b_third_component (Q  (None, 1, 1, 2048)  1054721     ['quant_activation_436[0][0]']   \n",
            " uantizeWrapperV2)                                                                                \n",
            "                                                                                                  \n",
            " quant_bn5b_third_component (Qu  (None, 1, 1, 2048)  8195        ['quant_res5b_third_component[0][\n",
            " antizeWrapperV2)                                                0]']                             \n",
            "                                                                                                  \n",
            " quant_add_142 (QuantizeWrapper  (None, 1, 1, 2048)  1           ['quant_bn5b_third_component[0][0\n",
            " V2)                                                             ]',                              \n",
            "                                                                  'quant_activation_434[0][0]']   \n",
            "                                                                                                  \n",
            " quant_activation_437 (Quantize  (None, 1, 1, 2048)  3           ['quant_add_142[0][0]']          \n",
            " WrapperV2)                                                                                       \n",
            "                                                                                                  \n",
            " quant_res5c_first_component (Q  (None, 1, 1, 512)   1050113     ['quant_activation_437[0][0]']   \n",
            " uantizeWrapperV2)                                                                                \n",
            "                                                                                                  \n",
            " quant_bn5c_first_component (Qu  (None, 1, 1, 512)   2049        ['quant_res5c_first_component[0][\n",
            " antizeWrapperV2)                                                0]']                             \n",
            "                                                                                                  \n",
            " quant_activation_438 (Quantize  (None, 1, 1, 512)   3           ['quant_bn5c_first_component[0][0\n",
            " WrapperV2)                                                      ]']                              \n",
            "                                                                                                  \n",
            " quant_res5c_second_component (  (None, 1, 1, 512)   2360833     ['quant_activation_438[0][0]']   \n",
            " QuantizeWrapperV2)                                                                               \n",
            "                                                                                                  \n",
            " quant_bn5c_second_component (Q  (None, 1, 1, 512)   2049        ['quant_res5c_second_component[0]\n",
            " uantizeWrapperV2)                                               [0]']                            \n",
            "                                                                                                  \n",
            " quant_activation_439 (Quantize  (None, 1, 1, 512)   3           ['quant_bn5c_second_component[0][\n",
            " WrapperV2)                                                      0]']                             \n",
            "                                                                                                  \n",
            " quant_res5c_third_component (Q  (None, 1, 1, 2048)  1054721     ['quant_activation_439[0][0]']   \n",
            " uantizeWrapperV2)                                                                                \n",
            "                                                                                                  \n",
            " quant_bn5c_third_component (Qu  (None, 1, 1, 2048)  8195        ['quant_res5c_third_component[0][\n",
            " antizeWrapperV2)                                                0]']                             \n",
            "                                                                                                  \n",
            " quant_add_143 (QuantizeWrapper  (None, 1, 1, 2048)  1           ['quant_bn5c_third_component[0][0\n",
            " V2)                                                             ]',                              \n",
            "                                                                  'quant_activation_437[0][0]']   \n",
            "                                                                                                  \n",
            " quant_activation_440 (Quantize  (None, 1, 1, 2048)  3           ['quant_add_143[0][0]']          \n",
            " WrapperV2)                                                                                       \n",
            "                                                                                                  \n",
            " quant_avg_pool (QuantizeWrappe  (None, 1, 1, 2048)  3           ['quant_activation_440[0][0]']   \n",
            " rV2)                                                                                             \n",
            "                                                                                                  \n",
            " quant_flatten_8 (QuantizeWrapp  (None, 2048)        1           ['quant_avg_pool[0][0]']         \n",
            " erV2)                                                                                            \n",
            "                                                                                                  \n",
            " quant_dense_8 (QuantizeWrapper  (None, 1000)        2049005     ['quant_flatten_8[0][0]']        \n",
            " V2)                                                                                              \n",
            "                                                                                                  \n",
            " quant_fc10 (QuantizeWrapperV2)  (None, 10)          10015       ['quant_dense_8[0][0]']          \n",
            "                                                                                                  \n",
            "==================================================================================================\n",
            "Total params: 25,700,170\n",
            "Trainable params: 25,593,602\n",
            "Non-trainable params: 106,568\n",
            "__________________________________________________________________________________________________\n"
          ]
        }
      ]
    },
    {
      "cell_type": "code",
      "source": [
        "q_aware_model.fit(x_train, y_train, batch_size=32, epochs=5, validation_split=0.1)"
      ],
      "metadata": {
        "colab": {
          "base_uri": "https://localhost:8080/"
        },
        "id": "rs65CbCsqe5g",
        "outputId": "4633aca3-cb12-4bcd-8c74-307aad7e3a3e"
      },
      "execution_count": 96,
      "outputs": [
        {
          "output_type": "stream",
          "name": "stdout",
          "text": [
            "Epoch 1/5\n"
          ]
        },
        {
          "output_type": "stream",
          "name": "stderr",
          "text": [
            "/usr/local/lib/python3.7/dist-packages/tensorflow/python/util/dispatch.py:1082: UserWarning: \"`sparse_categorical_crossentropy` received `from_logits=True`, but the `output` argument was produced by a sigmoid or softmax activation and thus does not represent logits. Was this intended?\"\n",
            "  return dispatch_target(*args, **kwargs)\n"
          ]
        },
        {
          "output_type": "stream",
          "name": "stdout",
          "text": [
            "1688/1688 [==============================] - 1003s 576ms/step - loss: 0.5537 - accuracy: 0.8016 - val_loss: 1.0100 - val_accuracy: 0.6282\n",
            "Epoch 2/5\n",
            "1688/1688 [==============================] - 959s 568ms/step - loss: 0.9404 - accuracy: 0.6501 - val_loss: 0.6322 - val_accuracy: 0.7535\n",
            "Epoch 3/5\n",
            "1688/1688 [==============================] - 964s 571ms/step - loss: 0.5938 - accuracy: 0.7754 - val_loss: 0.4831 - val_accuracy: 0.8155\n",
            "Epoch 4/5\n",
            "1688/1688 [==============================] - 961s 570ms/step - loss: 0.4648 - accuracy: 0.8276 - val_loss: 0.3807 - val_accuracy: 0.8548\n",
            "Epoch 5/5\n",
            "1688/1688 [==============================] - 964s 571ms/step - loss: 0.4117 - accuracy: 0.8466 - val_loss: 0.3637 - val_accuracy: 0.8658\n"
          ]
        },
        {
          "output_type": "execute_result",
          "data": {
            "text/plain": [
              "<keras.callbacks.History at 0x7f1f176a4dd0>"
            ]
          },
          "metadata": {},
          "execution_count": 96
        }
      ]
    },
    {
      "cell_type": "code",
      "source": [
        "import tempfile\n",
        "# Create float TFLite model.\n",
        "float_converter = tf.lite.TFLiteConverter.from_keras_model(model)\n",
        "float_tflite_model = float_converter.convert()\n",
        "\n",
        "quant_converter = tf.lite.TFLiteConverter.from_keras_model(q_aware_model)\n",
        "quant_converter.optimizations = [tf.lite.Optimize.DEFAULT]\n",
        "quantized_tflite_model = quant_converter.convert()\n",
        "\n",
        "# Measure sizes of models.\n",
        "_, float_file = tempfile.mkstemp('.tflite')\n",
        "_, quant_file = tempfile.mkstemp('.tflite')\n",
        "\n",
        "with open(quant_file, 'wb') as f:\n",
        "  f.write(quantized_tflite_model)\n",
        "\n",
        "with open(float_file, 'wb') as f:\n",
        "  f.write(float_tflite_model)"
      ],
      "metadata": {
        "colab": {
          "base_uri": "https://localhost:8080/"
        },
        "id": "490WmWClMfbD",
        "outputId": "085f3647-e171-49ac-d52f-4fea58759c73"
      },
      "execution_count": 101,
      "outputs": [
        {
          "output_type": "stream",
          "name": "stdout",
          "text": [
            "INFO:tensorflow:Assets written to: /tmp/tmpmmz0cl6k/assets\n"
          ]
        },
        {
          "output_type": "stream",
          "name": "stderr",
          "text": [
            "INFO:tensorflow:Assets written to: /tmp/tmpmmz0cl6k/assets\n",
            "WARNING:absl:Buffer deduplication procedure will be skipped when flatbuffer library is not properly loaded\n",
            "WARNING:absl:Found untraced functions such as conv_1_layer_call_fn, conv_1_layer_call_and_return_conditional_losses, activation_392_layer_call_fn, activation_392_layer_call_and_return_conditional_losses, res2a_first_component_layer_call_fn while saving (showing 5 of 242). These functions will not be directly callable after loading.\n"
          ]
        },
        {
          "output_type": "stream",
          "name": "stdout",
          "text": [
            "INFO:tensorflow:Assets written to: /tmp/tmp_4iqy7rn/assets\n"
          ]
        },
        {
          "output_type": "stream",
          "name": "stderr",
          "text": [
            "INFO:tensorflow:Assets written to: /tmp/tmp_4iqy7rn/assets\n",
            "/usr/local/lib/python3.7/dist-packages/tensorflow/lite/python/convert.py:746: UserWarning: Statistics for quantized inputs were expected, but not specified; continuing anyway.\n",
            "  warnings.warn(\"Statistics for quantized inputs were expected, but not \"\n",
            "WARNING:absl:Buffer deduplication procedure will be skipped when flatbuffer library is not properly loaded\n"
          ]
        }
      ]
    },
    {
      "cell_type": "code",
      "source": [
        "print(\"Float model in Mb:\", os.path.getsize(float_file) / float(2**20))\n",
        "print(\"Quantized model in Mb:\", os.path.getsize(quant_file) / float(2**20))"
      ],
      "metadata": {
        "colab": {
          "base_uri": "https://localhost:8080/"
        },
        "id": "tsAmxevTNe2G",
        "outputId": "553bff67-28bc-4a03-9a58-3088c16309d9"
      },
      "execution_count": 102,
      "outputs": [
        {
          "output_type": "stream",
          "name": "stdout",
          "text": [
            "Float model in Mb: 97.46932601928711\n",
            "Quantized model in Mb: 25.09473419189453\n"
          ]
        }
      ]
    },
    {
      "cell_type": "code",
      "source": [
        "evaluate_model(float_file, model_type=\"Original\")\n",
        "evaluate_model(quant_file, model_type=\"Quantized 8int\")"
      ],
      "metadata": {
        "colab": {
          "base_uri": "https://localhost:8080/"
        },
        "id": "5WVpQ2j3NCI5",
        "outputId": "daf212bb-47c0-47b3-ab22-7a2dfee07f31"
      },
      "execution_count": 103,
      "outputs": [
        {
          "output_type": "stream",
          "name": "stdout",
          "text": [
            "Original model accuracy is 85.4000% (Number of test samples=500) , time = 0.014008\n",
            "Quantized 8int model accuracy is 87.0000% (Number of test samples=500) , time = 0.203778\n"
          ]
        }
      ]
    }
  ],
  "metadata": {
    "accelerator": "GPU",
    "colab": {
      "collapsed_sections": [],
      "name": "RESNET50.ipynb",
      "provenance": [],
      "authorship_tag": "ABX9TyPZuL8zErrMb3F89iyK+Bwb",
      "include_colab_link": true
    },
    "kernelspec": {
      "display_name": "Python 3",
      "name": "python3"
    },
    "language_info": {
      "name": "python"
    }
  },
  "nbformat": 4,
  "nbformat_minor": 0
}